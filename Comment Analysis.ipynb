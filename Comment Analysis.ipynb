{
 "cells": [
  {
   "cell_type": "code",
   "execution_count": 2,
   "metadata": {},
   "outputs": [],
   "source": [
    "import numpy as np\n",
    "import pandas as pd\n",
    "import matplotlib.pyplot as plt\n",
    "import seaborn as sns\n",
    "import json\n",
    "from facebook_scraper import get_posts, get_profile\n",
    "\n"
   ]
  },
  {
   "cell_type": "code",
   "execution_count": 3,
   "metadata": {},
   "outputs": [],
   "source": [
    "post_df = pd.read_csv('Data/fabrizioromanoherewego.csv')"
   ]
  },
  {
   "cell_type": "code",
   "execution_count": 5,
   "metadata": {},
   "outputs": [
    {
     "name": "stdout",
     "output_type": "stream",
     "text": [
      "Requirement already satisfied: facebook-sdk in c:\\users\\laptop vinhlink\\appdata\\local\\programs\\python\\python310\\lib\\site-packages (3.1.0)\n",
      "Requirement already satisfied: requests in c:\\users\\laptop vinhlink\\appdata\\local\\programs\\python\\python310\\lib\\site-packages (from facebook-sdk) (2.31.0)\n",
      "Requirement already satisfied: charset-normalizer<4,>=2 in c:\\users\\laptop vinhlink\\appdata\\local\\programs\\python\\python310\\lib\\site-packages (from requests->facebook-sdk) (3.3.0)\n",
      "Requirement already satisfied: idna<4,>=2.5 in c:\\users\\laptop vinhlink\\appdata\\local\\programs\\python\\python310\\lib\\site-packages (from requests->facebook-sdk) (3.4)\n",
      "Requirement already satisfied: urllib3<3,>=1.21.1 in c:\\users\\laptop vinhlink\\appdata\\local\\programs\\python\\python310\\lib\\site-packages (from requests->facebook-sdk) (1.26.18)\n",
      "Requirement already satisfied: certifi>=2017.4.17 in c:\\users\\laptop vinhlink\\appdata\\local\\programs\\python\\python310\\lib\\site-packages (from requests->facebook-sdk) (2023.7.22)\n",
      "Collecting unidecode\n",
      "  Downloading Unidecode-1.3.7-py3-none-any.whl.metadata (13 kB)\n",
      "Downloading Unidecode-1.3.7-py3-none-any.whl (235 kB)\n",
      "   ---------------------------------------- 0.0/235.5 kB ? eta -:--:--\n",
      "   ------ -------------------------------- 41.0/235.5 kB 667.8 kB/s eta 0:00:01\n",
      "   ------------------- -------------------- 112.6/235.5 kB 1.3 MB/s eta 0:00:01\n",
      "   ---------------------------------- ----- 204.8/235.5 kB 1.6 MB/s eta 0:00:01\n",
      "   ---------------------------------------- 235.5/235.5 kB 1.6 MB/s eta 0:00:00\n",
      "Installing collected packages: unidecode\n",
      "Successfully installed unidecode-1.3.7\n"
     ]
    }
   ],
   "source": [
    "!pip install facebook-sdk\n",
    "!pip install unidecode"
   ]
  },
  {
   "cell_type": "code",
   "execution_count": 6,
   "metadata": {},
   "outputs": [
    {
     "data": {
      "text/plain": [
       "184581"
      ]
     },
     "execution_count": 6,
     "metadata": {},
     "output_type": "execute_result"
    }
   ],
   "source": [
    "#Total number of comments\n",
    "post_df['comments'].sum()"
   ]
  },
  {
   "cell_type": "code",
   "execution_count": 9,
   "metadata": {},
   "outputs": [],
   "source": [
    "post_cmt = post_df[\"comments_full\"].tolist()\n",
    "arr = []\n",
    "for i in range(len(post_cmt)):\n",
    "    post_cmt[i] = post_cmt[i].replace(\"[\",\"\")\n",
    "    post_cmt[i] = post_cmt[i].replace(\"]\",\"\")\n",
    "\n",
    "    input_str = post_cmt[i]\n",
    "\n",
    "    # Xóa dấu ngoặc đối với các thành phần và chia chuỗi thành một danh sách\n",
    "    list_result = [item.strip('{}').split(',') for item in input_str.split('}, {')]\n",
    "\n",
    "    arr.append(list_result)\n",
    "\n",
    "list_id = []\n",
    "for i in range(len(arr)) : \n",
    "    ss = \"\"\n",
    "    for j in range(len(arr[i])) :\n",
    "        if len(arr[i][j]) > 6:\n",
    "            modified_str = arr[i][j][2].replace(\":\", \"\")\n",
    "            ss = ss + modified_str + \", \"\n",
    "    list_id.append(ss)\n",
    "\n",
    "for i in range(len(list_id)) :\n",
    "    list_id[i] = list_id[i].replace(\"commenter_id\",\"\")\n",
    "    list_id[i] = list_id[i].replace(\"'\",\"\")\n"
   ]
  },
  {
   "cell_type": "code",
   "execution_count": 10,
   "metadata": {},
   "outputs": [],
   "source": [
    "list_id_data = []\n",
    "for i in range(len(list_id)) :\n",
    "    string_data = list_id[i]\n",
    "    cleaned_string = string_data.strip(', ')\n",
    "    list_dt = cleaned_string.split(', ')\n",
    "    for j in range(len(list_dt)) :\n",
    "        list_id_data.append(list_dt[j])\n",
    "    "
   ]
  },
  {
   "cell_type": "code",
   "execution_count": 12,
   "metadata": {},
   "outputs": [
    {
     "name": "stderr",
     "output_type": "stream",
     "text": [
      "c:\\Users\\Laptop VINHLINK\\AppData\\Local\\Programs\\Python\\Python310\\lib\\site-packages\\facebook_scraper\\facebook_scraper.py:855: UserWarning: Facebook language detected as vi_VN - for best results, set to en_US\n",
      "  warnings.warn(\n"
     ]
    }
   ],
   "source": [
    "commenter = []\n",
    "for i in range(len(list_id_data)):\n",
    "    try:\n",
    "        x = int(list_id_data[i])\n",
    "        user = get_profile(str(x))\n",
    "        commenter.append(user)\n",
    "    except:\n",
    "        continue"
   ]
  }
 ],
 "metadata": {
  "kernelspec": {
   "display_name": "Python 3",
   "language": "python",
   "name": "python3"
  },
  "language_info": {
   "codemirror_mode": {
    "name": "ipython",
    "version": 3
   },
   "file_extension": ".py",
   "mimetype": "text/x-python",
   "name": "python",
   "nbconvert_exporter": "python",
   "pygments_lexer": "ipython3",
   "version": "3.10.6"
  }
 },
 "nbformat": 4,
 "nbformat_minor": 2
}
